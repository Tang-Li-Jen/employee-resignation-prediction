{
 "cells": [
  {
   "cell_type": "code",
   "execution_count": 61,
   "metadata": {},
   "outputs": [],
   "source": [
    "from collections import Counter\n",
    "from sklearn.metrics import roc_auc_score, f1_score, fbeta_score\n",
    "from sklearn.model_selection import train_test_split\n",
    "import pandas as pd\n",
    "import numpy as np\n",
    "import lightgbm as lgb\n",
    "import os"
   ]
  },
  {
   "cell_type": "code",
   "execution_count": 71,
   "metadata": {},
   "outputs": [],
   "source": [
    "# for naive lgbm\n",
    "def lgb_fbeta_score(y_hat, data):\n",
    "    y_true = data.get_label()\n",
    "    y_hat = np.where(y_hat < 0.5, 0, 1)  \n",
    "    return 'fbeta', fbeta_score(y_true, y_hat, beta=1.5), True"
   ]
  },
  {
   "cell_type": "code",
   "execution_count": 72,
   "metadata": {},
   "outputs": [],
   "source": [
    "folder_path = 'data/'"
   ]
  },
  {
   "cell_type": "code",
   "execution_count": 73,
   "metadata": {},
   "outputs": [
    {
     "data": {
      "text/plain": [
       "['test.csv', 'submission.csv', 'season.csv', 'train.csv']"
      ]
     },
     "execution_count": 73,
     "metadata": {},
     "output_type": "execute_result"
    }
   ],
   "source": [
    "os.listdir(folder_path)"
   ]
  },
  {
   "cell_type": "code",
   "execution_count": 74,
   "metadata": {},
   "outputs": [],
   "source": [
    "df_train = pd.read_csv(os.path.join(folder_path, 'train.csv'))\n",
    "df_test = pd.read_csv(os.path.join(folder_path, 'test.csv'))"
   ]
  },
  {
   "cell_type": "code",
   "execution_count": 75,
   "metadata": {},
   "outputs": [],
   "source": [
    "df_tr, df_val = train_test_split(df_train, stratify = df_train['PerStatus'], test_size=0.2, random_state=42)"
   ]
  },
  {
   "cell_type": "code",
   "execution_count": 76,
   "metadata": {},
   "outputs": [],
   "source": [
    "features = ['sex', '工作分類', '職等', '廠區代碼', '管理層級',\n",
    "       '工作資歷1', '工作資歷2', '工作資歷3', '工作資歷4', '工作資歷5', '專案時數', '專案總數', '當前專案角色',\n",
    "       '特殊專案佔比', '工作地點', '訓練時數A', '訓練時數B', '訓練時數C', '生產總額', '榮譽數', '是否升遷',\n",
    "       '升遷速度', '近三月請假數A', '近一年請假數A', '近三月請假數B', '近一年請假數B', '出差數A', '出差數B',\n",
    "       '出差集中度', '年度績效等級A', '年度績效等級B', '年度績效等級C', '年齡層級', '婚姻狀況', '年資層級A',\n",
    "       '年資層級B', '年資層級C', '任職前工作平均年數', '最高學歷', '畢業學校類別', '畢業科系類別', '眷屬量',\n",
    "       '通勤成本', '歸屬部門']"
   ]
  },
  {
   "cell_type": "code",
   "execution_count": 77,
   "metadata": {},
   "outputs": [],
   "source": [
    "tr_X = df_tr[features].values\n",
    "tr_y = df_tr['PerStatus']\n",
    "\n",
    "val_X = df_val[features].values\n",
    "val_y = df_val['PerStatus']\n",
    "\n",
    "te_X = df_test[features].values"
   ]
  },
  {
   "cell_type": "code",
   "execution_count": 78,
   "metadata": {},
   "outputs": [],
   "source": [
    "lgtrain = lgb.Dataset(tr_X, tr_y)\n",
    "lgvalid = lgb.Dataset(val_X, val_y)"
   ]
  },
  {
   "cell_type": "code",
   "execution_count": 91,
   "metadata": {},
   "outputs": [],
   "source": [
    "params = {\n",
    "          \"objective\" : \"binary\",\n",
    "          \"num_leaves\" : 30,\n",
    "          \"max_depth\": -1,\n",
    "          \"bagging_fraction\" : 0.8,  # subsample\n",
    "          \"feature_fraction\" : 0.8,  # colsample_bytree\n",
    "          \"bagging_freq\" : 5,        # subsample_freq\n",
    "          \"bagging_seed\" : 2018,\n",
    "          \"num_threads\":4,\n",
    "          'lambda_l1': 0.9, \n",
    "          'lambda_l2': 0.5, \n",
    "          'learning_rate': 0.1, \n",
    "          'metric': 'None',\n",
    "          'is_unbalance': True,\n",
    "          \"verbosity\" : -1 }"
   ]
  },
  {
   "cell_type": "code",
   "execution_count": 92,
   "metadata": {},
   "outputs": [
    {
     "name": "stdout",
     "output_type": "stream",
     "text": [
      "Training until validation scores don't improve for 200 rounds\n",
      "[50]\ttrain's fbeta: 0.528535\tvalidation's fbeta: 0.286312\n",
      "[100]\ttrain's fbeta: 0.672099\tvalidation's fbeta: 0.297168\n",
      "[150]\ttrain's fbeta: 0.777074\tvalidation's fbeta: 0.299325\n",
      "[200]\ttrain's fbeta: 0.856815\tvalidation's fbeta: 0.263022\n",
      "[250]\ttrain's fbeta: 0.886395\tvalidation's fbeta: 0.23908\n",
      "[300]\ttrain's fbeta: 0.94706\tvalidation's fbeta: 0.22807\n",
      "Early stopping, best iteration is:\n",
      "[120]\ttrain's fbeta: 0.719237\tvalidation's fbeta: 0.306898\n"
     ]
    }
   ],
   "source": [
    "evals_result = {}\n",
    "\n",
    "clf = lgb.train(params, lgtrain, 1000,\n",
    "                valid_sets=[lgvalid, lgtrain], valid_names=['validation', 'train'],\n",
    "                feval=lgb_fbeta_score, evals_result=evals_result,\n",
    "                early_stopping_rounds = 200,\n",
    "                verbose_eval=50)"
   ]
  },
  {
   "cell_type": "code",
   "execution_count": 93,
   "metadata": {},
   "outputs": [],
   "source": [
    "pred_val = np.where(clf.predict(val_X) < 0.5, 0, 1)"
   ]
  },
  {
   "cell_type": "code",
   "execution_count": 94,
   "metadata": {},
   "outputs": [
    {
     "data": {
      "text/plain": [
       "Counter({0: 2559, 1: 320})"
      ]
     },
     "execution_count": 94,
     "metadata": {},
     "output_type": "execute_result"
    }
   ],
   "source": [
    "Counter(pred_val)"
   ]
  },
  {
   "cell_type": "code",
   "execution_count": 95,
   "metadata": {},
   "outputs": [
    {
     "data": {
      "text/plain": [
       "0.30689782368129837"
      ]
     },
     "execution_count": 95,
     "metadata": {},
     "output_type": "execute_result"
    }
   ],
   "source": [
    "fbeta_score(val_y, pred_val, beta=1.5)"
   ]
  },
  {
   "cell_type": "markdown",
   "metadata": {},
   "source": [
    "# Test Inference"
   ]
  },
  {
   "cell_type": "code",
   "execution_count": 96,
   "metadata": {},
   "outputs": [],
   "source": [
    "pred_test = np.where(clf.predict(te_X) < 0.5, 0, 1)"
   ]
  },
  {
   "cell_type": "code",
   "execution_count": 97,
   "metadata": {},
   "outputs": [
    {
     "data": {
      "text/plain": [
       "Counter({0: 3458, 1: 281})"
      ]
     },
     "execution_count": 97,
     "metadata": {},
     "output_type": "execute_result"
    }
   ],
   "source": [
    "Counter(pred_test)"
   ]
  },
  {
   "cell_type": "code",
   "execution_count": 98,
   "metadata": {},
   "outputs": [],
   "source": [
    "sub = pd.read_csv(os.path.join(folder_path, 'submission.csv'))"
   ]
  },
  {
   "cell_type": "code",
   "execution_count": 99,
   "metadata": {},
   "outputs": [],
   "source": [
    "sub['PerStatus'] = pred_test"
   ]
  },
  {
   "cell_type": "code",
   "execution_count": 100,
   "metadata": {},
   "outputs": [],
   "source": [
    "sub.to_csv('submission.csv', index=False)"
   ]
  },
  {
   "cell_type": "code",
   "execution_count": null,
   "metadata": {},
   "outputs": [],
   "source": []
  }
 ],
 "metadata": {
  "kernelspec": {
   "display_name": "Python 3",
   "language": "python",
   "name": "python3"
  },
  "language_info": {
   "codemirror_mode": {
    "name": "ipython",
    "version": 3
   },
   "file_extension": ".py",
   "mimetype": "text/x-python",
   "name": "python",
   "nbconvert_exporter": "python",
   "pygments_lexer": "ipython3",
   "version": "3.6.5"
  }
 },
 "nbformat": 4,
 "nbformat_minor": 4
}
